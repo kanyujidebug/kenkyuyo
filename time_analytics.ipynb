{
  "nbformat": 4,
  "nbformat_minor": 0,
  "metadata": {
    "colab": {
      "name": "time_analytics.ipynb ",
      "provenance": [],
      "collapsed_sections": [],
      "authorship_tag": "ABX9TyMkeUljWukXHZt5n9QqNwXh",
      "include_colab_link": true
    },
    "kernelspec": {
      "name": "python3",
      "display_name": "Python 3"
    },
    "language_info": {
      "name": "python"
    }
  },
  "cells": [
    {
      "cell_type": "markdown",
      "metadata": {
        "id": "view-in-github",
        "colab_type": "text"
      },
      "source": [
        "<a href=\"https://colab.research.google.com/github/kanyujidebug/kenkyuyo/blob/main/time_analytics.ipynb\" target=\"_parent\"><img src=\"https://colab.research.google.com/assets/colab-badge.svg\" alt=\"Open In Colab\"/></a>"
      ]
    },
    {
      "cell_type": "code",
      "metadata": {
        "colab": {
          "base_uri": "https://localhost:8080/"
        },
        "id": "Vsgjf329hwUP",
        "outputId": "33d6c95f-758d-40e5-aea9-58c18eedd318"
      },
      "source": [
        "from google.colab import drive\n",
        "drive.mount('/content/drive')"
      ],
      "execution_count": 1,
      "outputs": [
        {
          "output_type": "stream",
          "name": "stdout",
          "text": [
            "Mounted at /content/drive\n"
          ]
        }
      ]
    },
    {
      "cell_type": "code",
      "metadata": {
        "colab": {
          "base_uri": "https://localhost:8080/"
        },
        "id": "Yk2oHvnCB7qa",
        "outputId": "00eecb70-8364-4938-aa3c-ba8041ec5577"
      },
      "source": [
        "!pip install changefinder\n",
        "!pip install sklearn\n",
        "!pip install tslearn"
      ],
      "execution_count": 3,
      "outputs": [
        {
          "output_type": "stream",
          "name": "stdout",
          "text": [
            "Collecting changefinder\n",
            "  Downloading changefinder-0.03.tar.gz (3.8 kB)\n",
            "Requirement already satisfied: numpy in /usr/local/lib/python3.7/dist-packages (from changefinder) (1.19.5)\n",
            "Requirement already satisfied: scipy in /usr/local/lib/python3.7/dist-packages (from changefinder) (1.4.1)\n",
            "Requirement already satisfied: statsmodels in /usr/local/lib/python3.7/dist-packages (from changefinder) (0.10.2)\n",
            "Collecting nose\n",
            "  Downloading nose-1.3.7-py3-none-any.whl (154 kB)\n",
            "\u001b[K     |████████████████████████████████| 154 kB 6.4 MB/s \n",
            "\u001b[?25hRequirement already satisfied: patsy>=0.4.0 in /usr/local/lib/python3.7/dist-packages (from statsmodels->changefinder) (0.5.2)\n",
            "Requirement already satisfied: pandas>=0.19 in /usr/local/lib/python3.7/dist-packages (from statsmodels->changefinder) (1.1.5)\n",
            "Requirement already satisfied: pytz>=2017.2 in /usr/local/lib/python3.7/dist-packages (from pandas>=0.19->statsmodels->changefinder) (2018.9)\n",
            "Requirement already satisfied: python-dateutil>=2.7.3 in /usr/local/lib/python3.7/dist-packages (from pandas>=0.19->statsmodels->changefinder) (2.8.2)\n",
            "Requirement already satisfied: six in /usr/local/lib/python3.7/dist-packages (from patsy>=0.4.0->statsmodels->changefinder) (1.15.0)\n",
            "Building wheels for collected packages: changefinder\n",
            "  Building wheel for changefinder (setup.py) ... \u001b[?25l\u001b[?25hdone\n",
            "  Created wheel for changefinder: filename=changefinder-0.3-py3-none-any.whl size=3841 sha256=504ea486ec5a6ca400fba02e53ca25b3e89674654f3d148f9bef841489c28645\n",
            "  Stored in directory: /root/.cache/pip/wheels/48/8f/4c/ba040e4cad3dbf0409c5c38ac9d3f92f947ea490412cdf3400\n",
            "Successfully built changefinder\n",
            "Installing collected packages: nose, changefinder\n",
            "Successfully installed changefinder-0.3 nose-1.3.7\n"
          ]
        }
      ]
    },
    {
      "cell_type": "code",
      "metadata": {
        "id": "L7qOcXHtH-f6",
        "colab": {
          "base_uri": "https://localhost:8080/"
        },
        "outputId": "9e6b7d53-23b7-4afe-a100-15490f6ade91"
      },
      "source": [
        "import numpy as np\n",
        "import pandas as pd\n",
        "from sklearn.cluster import KMeans\n",
        "from matplotlib import pylab as plt\n",
        "import seaborn as sns\n",
        "%matplotlib inline\n",
        "\n",
        "import changefinder\n",
        "from tslearn.clustering import TimeSeriesKMeans, silhouette_score\n",
        "from tslearn.preprocessing import TimeSeriesScalerMinMax\n",
        "from tslearn.utils import to_time_series_dataset\n",
        "\n",
        "sns.set()\n",
        "pd.set_option('display.max_rows', None)"
      ],
      "execution_count": 6,
      "outputs": [
        {
          "output_type": "stream",
          "name": "stderr",
          "text": [
            "/usr/local/lib/python3.7/dist-packages/statsmodels/tools/_testing.py:19: FutureWarning: pandas.util.testing is deprecated. Use the functions in the public API at pandas.testing instead.\n",
            "  import pandas.util.testing as tm\n"
          ]
        }
      ]
    },
    {
      "cell_type": "code",
      "metadata": {
        "id": "UxQi-bB_4Yq2"
      },
      "source": [
        "#マスキングされた年次毎件数データをアップロード\n",
        "df=pd.read_csv('/content/drive/My Drive/merge_df_year.csv',index_col=0)"
      ],
      "execution_count": 14,
      "outputs": []
    },
    {
      "cell_type": "code",
      "metadata": {
        "id": "-xtqaxKvVApq"
      },
      "source": [
        "df_year_test.index = pd.to_datetime(df_year_test.index,format='%Y%m')\n",
        "df_year_test=df_year_test.loc[:'2021-09-01']"
      ],
      "execution_count": null,
      "outputs": []
    },
    {
      "cell_type": "code",
      "metadata": {
        "id": "pHibEbXrCxtG"
      },
      "source": [
        "df_year_test.plot()"
      ],
      "execution_count": null,
      "outputs": []
    },
    {
      "cell_type": "code",
      "metadata": {
        "id": "y5IINM5RCCPl"
      },
      "source": [
        "import matplotlib.pyplot as plt\n",
        "import numpy as np\n",
        "data=df_year_test.to_numpy()\n",
        "\n",
        "cf = changefinder.ChangeFinder(r=0.07, order=1, smooth=4)\n",
        "\n",
        "ret = []\n",
        "for i in data:\n",
        "    score = cf.update(i)\n",
        "    ret.append(score)\n",
        "\n",
        "fig = plt.figure()\n",
        "ax = fig.add_subplot(111)\n",
        "ax.plot(df_year_test.index,ret)\n",
        "ax2 = ax.twinx()\n",
        "ax2.plot(df_year_test.index,data,'r')\n",
        "ax.set_xlabel('year',size=12)\n",
        "ax.set_ylabel('Rate',size=12)\n",
        "ax2.set_ylabel('number of cases',size=12)\n",
        "plt.savefig('/content/drive/My Drive/clinical_df_cancer_change.png')\n",
        "plt.show()\n",
        "\n",
        "plt.close()"
      ],
      "execution_count": null,
      "outputs": []
    },
    {
      "cell_type": "code",
      "metadata": {
        "id": "EuDb_bVQ6MFE"
      },
      "source": [
        "df_test=df.loc['200601':'202108','diabets']\n",
        "df_test.index = pd.to_datetime(df_year_test_2.index,format='%Y%m')"
      ],
      "execution_count": null,
      "outputs": []
    },
    {
      "cell_type": "code",
      "metadata": {
        "id": "U1D-fyBHjhuo"
      },
      "source": [
        "import matplotlib.pyplot as plt\n",
        "import changefinder\n",
        "import numpy as np\n",
        "data=df_year_test_2.to_numpy()\n",
        "\n",
        "cf = changefinder.ChangeFinder(r=0.07, order=1, smooth=10)\n",
        "\n",
        "ret = []\n",
        "for i in data:\n",
        "    score = cf.update(i)\n",
        "    ret.append(score)\n",
        "\n",
        "fig = plt.figure()\n",
        "ax = fig.add_subplot(111)\n",
        "ax.plot(df_year_test_2.index,ret)\n",
        "ax2 = ax.twinx()\n",
        "ax2.plot(df_year_test_2.index,data,'r')\n",
        "ax.set_xlabel('year',size=12)\n",
        "ax.set_ylabel('Rate',size=12)\n",
        "ax2.set_ylabel('number of cases',size=12)\n",
        "plt.savefig('/content/drive/My Drive/clinical_df_cancer_change_2.png')\n",
        "plt.show()\n",
        "\n",
        "\n",
        "plt.close()"
      ],
      "execution_count": null,
      "outputs": []
    },
    {
      "cell_type": "code",
      "metadata": {
        "id": "dD55bNfzJEKf"
      },
      "source": [
        "df.index = pd.to_datetime(df.index,format='%Y%m')\n",
        "dfT = df.T"
      ],
      "execution_count": null,
      "outputs": []
    },
    {
      "cell_type": "code",
      "metadata": {
        "id": "Zoh0q5-XfFZs"
      },
      "source": [
        "df_roll=df.rolling(6).mean().round(1)\n",
        "df_roll_all=df_roll.loc['2018-04-01':'2021-09-01','all']\n",
        "df_roll=df_roll.drop('all',axis=1)"
      ],
      "execution_count": null,
      "outputs": []
    },
    {
      "cell_type": "code",
      "metadata": {
        "id": "Qqky0L08WiJR"
      },
      "source": [
        "df_year_test_2=df_roll.loc['2018-04-01':'2021-09-01'].div(df_roll_all,axis=0)\n",
        "df_year_test_2=df_year_test_2.drop('Cancer',axis=1)"
      ],
      "execution_count": null,
      "outputs": []
    },
    {
      "cell_type": "code",
      "metadata": {
        "id": "bwRXo1FEhnNf"
      },
      "source": [
        "list_=df_year_test_2.loc[:,df_year_test_2.mean()<0.01]\n",
        "columns_list=list_.columns"
      ],
      "execution_count": null,
      "outputs": []
    },
    {
      "cell_type": "code",
      "metadata": {
        "id": "D_d5tkqzJXa3",
        "colab": {
          "base_uri": "https://localhost:8080/"
        },
        "outputId": "8be49bda-9a5f-4b46-cd53-de607c477763"
      },
      "source": [
        "def tsclusteringN(ts_data, names):\n",
        "\n",
        "    metric = 'dtw'\n",
        "    n_clusters = [n for n in range(2, 6)]\n",
        "    for n in n_clusters:\n",
        "        print('クラスター数 =', n)\n",
        "        km = TimeSeriesKMeans(n_clusters=n, metric=metric, verbose=False, random_state=1).fit(ts_data)\n",
        "        print('クラスタリング結果 =', km.labels_)\n",
        "        print('シルエット値 =', silhouette_score(ts_data, km.labels_, metric=metric))\n",
        "        print()\n",
        " \n",
        "def main():\n",
        "    tsclusteringN(df_year_test_2.drop(columns_list,axis=1).loc['2018-04-01':'2021-09-01'].values.transpose(), df_year_test_2.drop(columns_list,axis=1).loc['2018-04-01':'2021-09-01'].columns)\n",
        " \n",
        "if __name__ == '__main__':\n",
        "    main()"
      ],
      "execution_count": null,
      "outputs": [
        {
          "output_type": "stream",
          "name": "stdout",
          "text": [
            "クラスター数 = 2\n",
            "クラスタリング結果 = [0 1 1 1 0 0 1]\n",
            "シルエット値 = 0.33693767540165054\n",
            "\n",
            "クラスター数 = 3\n",
            "クラスタリング結果 = [1 2 0 0 0 0 2]\n",
            "シルエット値 = 0.5890770556267251\n",
            "\n",
            "クラスター数 = 4\n",
            "クラスタリング結果 = [1 2 3 3 0 0 2]\n",
            "シルエット値 = 0.760306136975082\n",
            "\n",
            "クラスター数 = 5\n",
            "クラスタリング結果 = [1 4 3 3 0 0 2]\n",
            "シルエット値 = 0.5714285714285714\n",
            "\n"
          ]
        }
      ]
    },
    {
      "cell_type": "code",
      "metadata": {
        "id": "iIKP2_anQweP",
        "colab": {
          "base_uri": "https://localhost:8080/"
        },
        "outputId": "acde3076-8184-40fd-e53d-2807ec6ab9de"
      },
      "source": [
        "# ターミナル対応\n",
        "import matplotlib\n",
        "matplotlib.use('Agg')\n",
        " \n",
        "def plot_clustering(km, ts_dataset, names, n_clusters):\n",
        "    # クラスタリングの結果をプロット\n",
        " \n",
        "    # クラスターごとの中心をプロット\n",
        "    for i, c in enumerate(km.cluster_centers_):\n",
        "        plt.plot(c.T[0], label=i)\n",
        "        plt.xticks(c.T[0],df_year_test_2.index)\n",
        " \n",
        "    plt.legend(bbox_to_anchor=(1, 1),loc='upper left')\n",
        "    \n",
        "    plt.show()\n",
        "    plt.savefig('ts_clust_center.png',bbox_inches=\"tight\")\n",
        "    plt.clf()\n",
        " \n",
        "    # クラスターごとのプロット\n",
        "    for i in range(n_clusters):\n",
        "        for label, d, t in zip(km.labels_, ts_dataset, names):\n",
        "            if label == i:\n",
        "                plt.plot(d, label=t)\n",
        " \n",
        "        plt.legend(bbox_to_anchor=(1, 1),loc='upper left')\n",
        "        plt.show()\n",
        "        plt.savefig('ts_labeled{}.png'.format(i),bbox_inches=\"tight\")\n",
        "        plt.clf()\n",
        "        print()\n",
        " \n",
        "def tsclustering(ts_data, names):\n",
        "    # 正規化\n",
        "    #ts_dataset = TimeSeriesScalerMinMax().fit_transform(ts_data)\n",
        " \n",
        "    n_clusters = 4\n",
        "    metric = 'dtw'\n",
        " \n",
        "    # metricが「DTW」か「softdtw」なら異なるデータ数の時系列データでもOK\n",
        "    km = TimeSeriesKMeans(n_clusters=n_clusters, metric=metric, verbose=False, random_state=1).fit(ts_data)\n",
        " \n",
        "    # クラスタリングの結果\n",
        "    print('クラスタリング結果 =', km.labels_)\n",
        " \n",
        "    plot_clustering(km, ts_data, names, n_clusters)\n",
        " \n",
        "def main():\n",
        "    #tsclusteringN(df.values.transpose(), df.columns)\n",
        "    tsclustering(df_year_test_2.drop(columns_list,axis=1).loc['2018-04-01':'2021-09-01'].values.transpose(), df_year_test_2.drop(columns_list,axis=1).loc['2018-04-01':'2021-09-01'].columns)\n",
        " \n",
        "if __name__ == '__main__':\n",
        "    main()"
      ],
      "execution_count": null,
      "outputs": [
        {
          "output_type": "stream",
          "name": "stdout",
          "text": [
            "クラスタリング結果 = [1 2 3 3 0 0 2]\n",
            "\n",
            "\n",
            "\n",
            "\n"
          ]
        }
      ]
    }
  ]
}