{
  "nbformat": 4,
  "nbformat_minor": 0,
  "metadata": {
    "colab": {
      "name": "time_analytics.ipynb ",
      "provenance": [],
      "collapsed_sections": [],
      "authorship_tag": "ABX9TyPPJg37bAdQ8NyoaWfpue5B",
      "include_colab_link": true
    },
    "kernelspec": {
      "name": "python3",
      "display_name": "Python 3"
    },
    "language_info": {
      "name": "python"
    }
  },
  "cells": [
    {
      "cell_type": "markdown",
      "metadata": {
        "id": "view-in-github",
        "colab_type": "text"
      },
      "source": [
        "<a href=\"https://colab.research.google.com/github/kanyujidebug/kenkyuyo/blob/main/time_analytics.ipynb\" target=\"_parent\"><img src=\"https://colab.research.google.com/assets/colab-badge.svg\" alt=\"Open In Colab\"/></a>"
      ]
    },
    {
      "cell_type": "code",
      "metadata": {
        "colab": {
          "base_uri": "https://localhost:8080/"
        },
        "id": "Vsgjf329hwUP",
        "outputId": "9eab6131-3b27-4a9a-a29a-bfd9d40b1b54"
      },
      "source": [
        "from google.colab import drive\n",
        "drive.mount('/content/drive')"
      ],
      "execution_count": null,
      "outputs": [
        {
          "output_type": "stream",
          "name": "stdout",
          "text": [
            "Mounted at /content/drive\n"
          ]
        }
      ]
    },
    {
      "cell_type": "code",
      "metadata": {
        "colab": {
          "base_uri": "https://localhost:8080/"
        },
        "id": "Yk2oHvnCB7qa",
        "outputId": "b3f3eb59-2207-4eeb-cf4a-957c801307cd"
      },
      "source": [
        "!pip install changefinder"
      ],
      "execution_count": null,
      "outputs": [
        {
          "output_type": "stream",
          "name": "stdout",
          "text": [
            "Collecting changefinder\n",
            "  Downloading changefinder-0.03.tar.gz (3.8 kB)\n",
            "Requirement already satisfied: numpy in /usr/local/lib/python3.7/dist-packages (from changefinder) (1.19.5)\n",
            "Requirement already satisfied: scipy in /usr/local/lib/python3.7/dist-packages (from changefinder) (1.4.1)\n",
            "Requirement already satisfied: statsmodels in /usr/local/lib/python3.7/dist-packages (from changefinder) (0.10.2)\n",
            "Collecting nose\n",
            "  Downloading nose-1.3.7-py3-none-any.whl (154 kB)\n",
            "\u001b[K     |████████████████████████████████| 154 kB 4.3 MB/s \n",
            "\u001b[?25hRequirement already satisfied: pandas>=0.19 in /usr/local/lib/python3.7/dist-packages (from statsmodels->changefinder) (1.1.5)\n",
            "Requirement already satisfied: patsy>=0.4.0 in /usr/local/lib/python3.7/dist-packages (from statsmodels->changefinder) (0.5.2)\n",
            "Requirement already satisfied: python-dateutil>=2.7.3 in /usr/local/lib/python3.7/dist-packages (from pandas>=0.19->statsmodels->changefinder) (2.8.2)\n",
            "Requirement already satisfied: pytz>=2017.2 in /usr/local/lib/python3.7/dist-packages (from pandas>=0.19->statsmodels->changefinder) (2018.9)\n",
            "Requirement already satisfied: six in /usr/local/lib/python3.7/dist-packages (from patsy>=0.4.0->statsmodels->changefinder) (1.15.0)\n",
            "Building wheels for collected packages: changefinder\n",
            "  Building wheel for changefinder (setup.py) ... \u001b[?25l\u001b[?25hdone\n",
            "  Created wheel for changefinder: filename=changefinder-0.3-py3-none-any.whl size=3841 sha256=de65836b69ceb7643eb74aceacf95a6b96cfcf50c5335c3d5d12c007cdc92db4\n",
            "  Stored in directory: /root/.cache/pip/wheels/48/8f/4c/ba040e4cad3dbf0409c5c38ac9d3f92f947ea490412cdf3400\n",
            "Successfully built changefinder\n",
            "Installing collected packages: nose, changefinder\n",
            "Successfully installed changefinder-0.3 nose-1.3.7\n"
          ]
        }
      ]
    },
    {
      "cell_type": "code",
      "metadata": {
        "colab": {
          "base_uri": "https://localhost:8080/"
        },
        "id": "KC6dLTiTYeKS",
        "outputId": "2d41a724-5285-47d7-f417-0812e0a85e5f"
      },
      "source": [
        "!pip install sklearn"
      ],
      "execution_count": null,
      "outputs": [
        {
          "output_type": "stream",
          "name": "stdout",
          "text": [
            "Requirement already satisfied: sklearn in /usr/local/lib/python3.7/dist-packages (0.0)\n",
            "Requirement already satisfied: scikit-learn in /usr/local/lib/python3.7/dist-packages (from sklearn) (1.0.1)\n",
            "Requirement already satisfied: scipy>=1.1.0 in /usr/local/lib/python3.7/dist-packages (from scikit-learn->sklearn) (1.4.1)\n",
            "Requirement already satisfied: joblib>=0.11 in /usr/local/lib/python3.7/dist-packages (from scikit-learn->sklearn) (1.1.0)\n",
            "Requirement already satisfied: threadpoolctl>=2.0.0 in /usr/local/lib/python3.7/dist-packages (from scikit-learn->sklearn) (3.0.0)\n",
            "Requirement already satisfied: numpy>=1.14.6 in /usr/local/lib/python3.7/dist-packages (from scikit-learn->sklearn) (1.19.5)\n"
          ]
        }
      ]
    },
    {
      "cell_type": "code",
      "metadata": {
        "colab": {
          "base_uri": "https://localhost:8080/"
        },
        "id": "tnFav9NtYfKy",
        "outputId": "23b79e21-430e-407c-f205-956a585f6304"
      },
      "source": [
        "!pip install tslearn"
      ],
      "execution_count": null,
      "outputs": [
        {
          "output_type": "stream",
          "name": "stdout",
          "text": [
            "Collecting tslearn\n",
            "  Downloading tslearn-0.5.2-cp37-cp37m-manylinux_2_5_x86_64.manylinux1_x86_64.manylinux_2_12_x86_64.manylinux2010_x86_64.whl (793 kB)\n",
            "\u001b[?25l\r\u001b[K     |▍                               | 10 kB 14.5 MB/s eta 0:00:01\r\u001b[K     |▉                               | 20 kB 13.1 MB/s eta 0:00:01\r\u001b[K     |█▎                              | 30 kB 9.7 MB/s eta 0:00:01\r\u001b[K     |█▋                              | 40 kB 8.8 MB/s eta 0:00:01\r\u001b[K     |██                              | 51 kB 4.4 MB/s eta 0:00:01\r\u001b[K     |██▌                             | 61 kB 4.5 MB/s eta 0:00:01\r\u001b[K     |███                             | 71 kB 4.8 MB/s eta 0:00:01\r\u001b[K     |███▎                            | 81 kB 5.4 MB/s eta 0:00:01\r\u001b[K     |███▊                            | 92 kB 5.4 MB/s eta 0:00:01\r\u001b[K     |████▏                           | 102 kB 4.2 MB/s eta 0:00:01\r\u001b[K     |████▌                           | 112 kB 4.2 MB/s eta 0:00:01\r\u001b[K     |█████                           | 122 kB 4.2 MB/s eta 0:00:01\r\u001b[K     |█████▍                          | 133 kB 4.2 MB/s eta 0:00:01\r\u001b[K     |█████▉                          | 143 kB 4.2 MB/s eta 0:00:01\r\u001b[K     |██████▏                         | 153 kB 4.2 MB/s eta 0:00:01\r\u001b[K     |██████▋                         | 163 kB 4.2 MB/s eta 0:00:01\r\u001b[K     |███████                         | 174 kB 4.2 MB/s eta 0:00:01\r\u001b[K     |███████▍                        | 184 kB 4.2 MB/s eta 0:00:01\r\u001b[K     |███████▉                        | 194 kB 4.2 MB/s eta 0:00:01\r\u001b[K     |████████▎                       | 204 kB 4.2 MB/s eta 0:00:01\r\u001b[K     |████████▊                       | 215 kB 4.2 MB/s eta 0:00:01\r\u001b[K     |█████████                       | 225 kB 4.2 MB/s eta 0:00:01\r\u001b[K     |█████████▌                      | 235 kB 4.2 MB/s eta 0:00:01\r\u001b[K     |██████████                      | 245 kB 4.2 MB/s eta 0:00:01\r\u001b[K     |██████████▎                     | 256 kB 4.2 MB/s eta 0:00:01\r\u001b[K     |██████████▊                     | 266 kB 4.2 MB/s eta 0:00:01\r\u001b[K     |███████████▏                    | 276 kB 4.2 MB/s eta 0:00:01\r\u001b[K     |███████████▋                    | 286 kB 4.2 MB/s eta 0:00:01\r\u001b[K     |████████████                    | 296 kB 4.2 MB/s eta 0:00:01\r\u001b[K     |████████████▍                   | 307 kB 4.2 MB/s eta 0:00:01\r\u001b[K     |████████████▉                   | 317 kB 4.2 MB/s eta 0:00:01\r\u001b[K     |█████████████▏                  | 327 kB 4.2 MB/s eta 0:00:01\r\u001b[K     |█████████████▋                  | 337 kB 4.2 MB/s eta 0:00:01\r\u001b[K     |██████████████                  | 348 kB 4.2 MB/s eta 0:00:01\r\u001b[K     |██████████████▌                 | 358 kB 4.2 MB/s eta 0:00:01\r\u001b[K     |██████████████▉                 | 368 kB 4.2 MB/s eta 0:00:01\r\u001b[K     |███████████████▎                | 378 kB 4.2 MB/s eta 0:00:01\r\u001b[K     |███████████████▊                | 389 kB 4.2 MB/s eta 0:00:01\r\u001b[K     |████████████████▏               | 399 kB 4.2 MB/s eta 0:00:01\r\u001b[K     |████████████████▌               | 409 kB 4.2 MB/s eta 0:00:01\r\u001b[K     |█████████████████               | 419 kB 4.2 MB/s eta 0:00:01\r\u001b[K     |█████████████████▍              | 430 kB 4.2 MB/s eta 0:00:01\r\u001b[K     |█████████████████▊              | 440 kB 4.2 MB/s eta 0:00:01\r\u001b[K     |██████████████████▏             | 450 kB 4.2 MB/s eta 0:00:01\r\u001b[K     |██████████████████▋             | 460 kB 4.2 MB/s eta 0:00:01\r\u001b[K     |███████████████████             | 471 kB 4.2 MB/s eta 0:00:01\r\u001b[K     |███████████████████▍            | 481 kB 4.2 MB/s eta 0:00:01\r\u001b[K     |███████████████████▉            | 491 kB 4.2 MB/s eta 0:00:01\r\u001b[K     |████████████████████▎           | 501 kB 4.2 MB/s eta 0:00:01\r\u001b[K     |████████████████████▋           | 512 kB 4.2 MB/s eta 0:00:01\r\u001b[K     |█████████████████████           | 522 kB 4.2 MB/s eta 0:00:01\r\u001b[K     |█████████████████████▌          | 532 kB 4.2 MB/s eta 0:00:01\r\u001b[K     |██████████████████████          | 542 kB 4.2 MB/s eta 0:00:01\r\u001b[K     |██████████████████████▎         | 552 kB 4.2 MB/s eta 0:00:01\r\u001b[K     |██████████████████████▊         | 563 kB 4.2 MB/s eta 0:00:01\r\u001b[K     |███████████████████████▏        | 573 kB 4.2 MB/s eta 0:00:01\r\u001b[K     |███████████████████████▌        | 583 kB 4.2 MB/s eta 0:00:01\r\u001b[K     |████████████████████████        | 593 kB 4.2 MB/s eta 0:00:01\r\u001b[K     |████████████████████████▍       | 604 kB 4.2 MB/s eta 0:00:01\r\u001b[K     |████████████████████████▉       | 614 kB 4.2 MB/s eta 0:00:01\r\u001b[K     |█████████████████████████▏      | 624 kB 4.2 MB/s eta 0:00:01\r\u001b[K     |█████████████████████████▋      | 634 kB 4.2 MB/s eta 0:00:01\r\u001b[K     |██████████████████████████      | 645 kB 4.2 MB/s eta 0:00:01\r\u001b[K     |██████████████████████████▍     | 655 kB 4.2 MB/s eta 0:00:01\r\u001b[K     |██████████████████████████▉     | 665 kB 4.2 MB/s eta 0:00:01\r\u001b[K     |███████████████████████████▎    | 675 kB 4.2 MB/s eta 0:00:01\r\u001b[K     |███████████████████████████▊    | 686 kB 4.2 MB/s eta 0:00:01\r\u001b[K     |████████████████████████████    | 696 kB 4.2 MB/s eta 0:00:01\r\u001b[K     |████████████████████████████▌   | 706 kB 4.2 MB/s eta 0:00:01\r\u001b[K     |█████████████████████████████   | 716 kB 4.2 MB/s eta 0:00:01\r\u001b[K     |█████████████████████████████▍  | 727 kB 4.2 MB/s eta 0:00:01\r\u001b[K     |█████████████████████████████▊  | 737 kB 4.2 MB/s eta 0:00:01\r\u001b[K     |██████████████████████████████▏ | 747 kB 4.2 MB/s eta 0:00:01\r\u001b[K     |██████████████████████████████▋ | 757 kB 4.2 MB/s eta 0:00:01\r\u001b[K     |███████████████████████████████ | 768 kB 4.2 MB/s eta 0:00:01\r\u001b[K     |███████████████████████████████▍| 778 kB 4.2 MB/s eta 0:00:01\r\u001b[K     |███████████████████████████████▉| 788 kB 4.2 MB/s eta 0:00:01\r\u001b[K     |████████████████████████████████| 793 kB 4.2 MB/s \n",
            "\u001b[?25hRequirement already satisfied: Cython in /usr/local/lib/python3.7/dist-packages (from tslearn) (0.29.24)\n",
            "Requirement already satisfied: scipy in /usr/local/lib/python3.7/dist-packages (from tslearn) (1.4.1)\n",
            "Requirement already satisfied: joblib in /usr/local/lib/python3.7/dist-packages (from tslearn) (1.1.0)\n",
            "Requirement already satisfied: scikit-learn in /usr/local/lib/python3.7/dist-packages (from tslearn) (1.0.1)\n",
            "Requirement already satisfied: numpy in /usr/local/lib/python3.7/dist-packages (from tslearn) (1.19.5)\n",
            "Requirement already satisfied: numba in /usr/local/lib/python3.7/dist-packages (from tslearn) (0.51.2)\n",
            "Requirement already satisfied: llvmlite<0.35,>=0.34.0.dev0 in /usr/local/lib/python3.7/dist-packages (from numba->tslearn) (0.34.0)\n",
            "Requirement already satisfied: setuptools in /usr/local/lib/python3.7/dist-packages (from numba->tslearn) (57.4.0)\n",
            "Requirement already satisfied: threadpoolctl>=2.0.0 in /usr/local/lib/python3.7/dist-packages (from scikit-learn->tslearn) (3.0.0)\n",
            "Installing collected packages: tslearn\n",
            "Successfully installed tslearn-0.5.2\n"
          ]
        }
      ]
    },
    {
      "cell_type": "code",
      "metadata": {
        "id": "L7qOcXHtH-f6"
      },
      "source": [
        "import numpy as np\n",
        "import pandas as pd\n",
        "from sklearn.cluster import KMeans\n",
        "from matplotlib import pylab as plt\n",
        "import seaborn as sns\n",
        "%matplotlib inline\n",
        "\n",
        "import changefinder\n",
        "from tslearn.clustering import TimeSeriesKMeans, silhouette_score\n",
        "from tslearn.preprocessing import TimeSeriesScalerMinMax\n",
        "from tslearn.utils import to_time_series_dataset\n",
        "\n",
        "sns.set()\n",
        "pd.set_option('display.max_rows', None)"
      ],
      "execution_count": null,
      "outputs": []
    },
    {
      "cell_type": "code",
      "metadata": {
        "id": "UxQi-bB_4Yq2"
      },
      "source": [
        "#マスキングされた件数データをアップロード\n",
        "df=pd.read_csv('/content/drive/My Drive/merge_df_year.csv',index_col=0)\n",
        "df_sample=pd.read_csv('/content/drive/My Drive/UMIN_data_sample.csv',index_col=0)"
      ],
      "execution_count": null,
      "outputs": []
    },
    {
      "cell_type": "code",
      "metadata": {
        "id": "-xtqaxKvVApq"
      },
      "source": [
        "df_year_test.index = pd.to_datetime(df_year_test.index,format='%Y%m')\n",
        "df_year_test=df_year_test.loc[:'2021-09-01']\n",
        "test=df_year_test.resample(rule = \"A\").sum()\n",
        "test_2=test['2016-12-31':'2018-12-31']"
      ],
      "execution_count": null,
      "outputs": []
    },
    {
      "cell_type": "code",
      "metadata": {
        "id": "pHibEbXrCxtG"
      },
      "source": [
        "df_year_test.plot()"
      ],
      "execution_count": null,
      "outputs": []
    },
    {
      "cell_type": "code",
      "metadata": {
        "id": "y5IINM5RCCPl"
      },
      "source": [
        "dayタイム# -*- coding: utf-\n",
        "import matplotlib.pyplot as plt\n",
        "import numpy as np\n",
        "data=df_year_test.to_numpy()\n",
        "\n",
        "cf = changefinder.ChangeFinder(r=0.07, order=1, smooth=4)\n",
        "\n",
        "ret = []\n",
        "for i in data:\n",
        "    score = cf.update(i)\n",
        "    ret.append(score)\n",
        "\n",
        "fig = plt.figure()\n",
        "ax = fig.add_subplot(111)\n",
        "ax.plot(df_year_test.index,ret)\n",
        "ax2 = ax.twinx()\n",
        "ax2.plot(df_year_test.index,data,'r')\n",
        "ax.set_xlabel('year',size=12)\n",
        "ax.set_ylabel('Rate',size=12)\n",
        "ax2.set_ylabel('number of cases',size=12)\n",
        "plt.savefig('/content/drive/My Drive/clinical_df_cancer_change.png')\n",
        "plt.show()\n",
        "\n",
        "plt.close()"
      ],
      "execution_count": null,
      "outputs": []
    },
    {
      "cell_type": "code",
      "metadata": {
        "id": "EuDb_bVQ6MFE"
      },
      "source": [
        "df_year_test_2=df.loc['200601':'202108','diabets']\n",
        "df_year_test_2.index = pd.to_datetime(df_year_test_2.index,format='%Y%m')"
      ],
      "execution_count": null,
      "outputs": []
    },
    {
      "cell_type": "code",
      "metadata": {
        "id": "U1D-fyBHjhuo"
      },
      "source": [
        "import matplotlib.pyplot as plt\n",
        "import changefinder\n",
        "import numpy as np\n",
        "data=df_year_test_2.to_numpy()\n",
        "\n",
        "cf = changefinder.ChangeFinder(r=0.07, order=1, smooth=10)\n",
        "\n",
        "ret = []\n",
        "for i in data:\n",
        "    score = cf.update(i)\n",
        "    ret.append(score)\n",
        "\n",
        "fig = plt.figure()\n",
        "ax = fig.add_subplot(111)\n",
        "ax.plot(df_year_test_2.index,ret)\n",
        "ax2 = ax.twinx()\n",
        "ax2.plot(df_year_test_2.index,data,'r')\n",
        "ax.set_xlabel('year',size=12)\n",
        "ax.set_ylabel('Rate',size=12)\n",
        "ax2.set_ylabel('number of cases',size=12)\n",
        "plt.savefig('/content/drive/My Drive/clinical_df_cancer_change_2.png')\n",
        "plt.show()\n",
        "\n",
        "\n",
        "plt.close()"
      ],
      "execution_count": null,
      "outputs": []
    },
    {
      "cell_type": "code",
      "metadata": {
        "id": "dD55bNfzJEKf"
      },
      "source": [
        "df.index = pd.to_datetime(df.index,format='%Y%m')\n",
        "dfT = df.T"
      ],
      "execution_count": null,
      "outputs": []
    },
    {
      "cell_type": "code",
      "metadata": {
        "id": "aADcUZtpJREv"
      },
      "source": [
        "kmeans = KMeans(n_clusters=4)\n",
        "kmeans.fit(dfT)"
      ],
      "execution_count": null,
      "outputs": []
    },
    {
      "cell_type": "code",
      "metadata": {
        "id": "7E1OXWddJVn8"
      },
      "source": [
        "labels = kmeans.labels_\n",
        "print(labels)\n",
        "dfT['cluster']=labels"
      ],
      "execution_count": null,
      "outputs": []
    },
    {
      "cell_type": "code",
      "metadata": {
        "id": "D_d5tkqzJXa3",
        "colab": {
          "base_uri": "https://localhost:8080/"
        },
        "outputId": "8be49bda-9a5f-4b46-cd53-de607c477763"
      },
      "source": [
        "def tsclusteringN(ts_data, names):\n",
        "\n",
        "    metric = 'dtw'\n",
        "    n_clusters = [n for n in range(2, 6)]\n",
        "    for n in n_clusters:\n",
        "        print('クラスター数 =', n)\n",
        "        km = TimeSeriesKMeans(n_clusters=n, metric=metric, verbose=False, random_state=1).fit(ts_data)\n",
        "        print('クラスタリング結果 =', km.labels_)\n",
        "        print('シルエット値 =', silhouette_score(ts_data, km.labels_, metric=metric))\n",
        "        print()\n",
        " \n",
        "def main():\n",
        "    tsclusteringN(df_year_test_2.drop(columns_list,axis=1).loc['2018-04-01':'2021-09-01'].values.transpose(), df_year_test_2.drop(columns_list,axis=1).loc['2018-04-01':'2021-09-01'].columns)\n",
        " \n",
        "if __name__ == '__main__':\n",
        "    main()"
      ],
      "execution_count": null,
      "outputs": [
        {
          "output_type": "stream",
          "name": "stdout",
          "text": [
            "クラスター数 = 2\n",
            "クラスタリング結果 = [0 1 1 1 0 0 1]\n",
            "シルエット値 = 0.33693767540165054\n",
            "\n",
            "クラスター数 = 3\n",
            "クラスタリング結果 = [1 2 0 0 0 0 2]\n",
            "シルエット値 = 0.5890770556267251\n",
            "\n",
            "クラスター数 = 4\n",
            "クラスタリング結果 = [1 2 3 3 0 0 2]\n",
            "シルエット値 = 0.760306136975082\n",
            "\n",
            "クラスター数 = 5\n",
            "クラスタリング結果 = [1 4 3 3 0 0 2]\n",
            "シルエット値 = 0.5714285714285714\n",
            "\n"
          ]
        }
      ]
    },
    {
      "cell_type": "code",
      "metadata": {
        "id": "iIKP2_anQweP",
        "colab": {
          "base_uri": "https://localhost:8080/"
        },
        "outputId": "acde3076-8184-40fd-e53d-2807ec6ab9de"
      },
      "source": [
        "# ターミナル対応\n",
        "import matplotlib\n",
        "matplotlib.use('Agg')\n",
        " \n",
        "def plot_clustering(km, ts_dataset, names, n_clusters):\n",
        "    # クラスタリングの結果をプロット\n",
        " \n",
        "    # クラスターごとの中心をプロット\n",
        "    for i, c in enumerate(km.cluster_centers_):\n",
        "        plt.plot(c.T[0], label=i)\n",
        "        plt.xticks(c.T[0],df_year_test_2.index)\n",
        " \n",
        "    plt.legend(bbox_to_anchor=(1, 1),loc='upper left')\n",
        "    \n",
        "    plt.show()\n",
        "    plt.savefig('ts_clust_center.png',bbox_inches=\"tight\")\n",
        "    plt.clf()\n",
        " \n",
        "    # クラスターごとのプロット\n",
        "    for i in range(n_clusters):\n",
        "        for label, d, t in zip(km.labels_, ts_dataset, names):\n",
        "            if label == i:\n",
        "                plt.plot(d, label=t)\n",
        " \n",
        "        plt.legend(bbox_to_anchor=(1, 1),loc='upper left')\n",
        "        plt.show()\n",
        "        plt.savefig('ts_labeled{}.png'.format(i),bbox_inches=\"tight\")\n",
        "        plt.clf()\n",
        "        print()\n",
        " \n",
        "def tsclustering(ts_data, names):\n",
        "    # 正規化\n",
        "    #ts_dataset = TimeSeriesScalerMinMax().fit_transform(ts_data)\n",
        " \n",
        "    n_clusters = 4\n",
        "    metric = 'dtw'\n",
        " \n",
        "    # metricが「DTW」か「softdtw」なら異なるデータ数の時系列データでもOK\n",
        "    km = TimeSeriesKMeans(n_clusters=n_clusters, metric=metric, verbose=False, random_state=1).fit(ts_data)\n",
        " \n",
        "    # クラスタリングの結果\n",
        "    print('クラスタリング結果 =', km.labels_)\n",
        " \n",
        "    plot_clustering(km, ts_data, names, n_clusters)\n",
        " \n",
        "def main():\n",
        "    #tsclusteringN(df.values.transpose(), df.columns)\n",
        "    tsclustering(df_year_test_2.drop(columns_list,axis=1).loc['2018-04-01':'2021-09-01'].values.transpose(), df_year_test_2.drop(columns_list,axis=1).loc['2018-04-01':'2021-09-01'].columns)\n",
        " \n",
        "if __name__ == '__main__':\n",
        "    main()"
      ],
      "execution_count": null,
      "outputs": [
        {
          "output_type": "stream",
          "name": "stdout",
          "text": [
            "クラスタリング結果 = [1 2 3 3 0 0 2]\n",
            "\n",
            "\n",
            "\n",
            "\n"
          ]
        }
      ]
    },
    {
      "cell_type": "code",
      "source": [
        "n_clusters = 2\n",
        "metric = 'dtw'\n",
        "ts_data=df_year_test_2.drop(columns_list,axis=1).loc['2018-04-01':'2021-09-01'].values.transpose()\n",
        "km = TimeSeriesKMeans(n_clusters=n_clusters, metric=metric, verbose=False, random_state=1).fit(ts_data)\n",
        "km.cluster_centers_"
      ],
      "metadata": {
        "id": "U1hhqTgk7D_Z"
      },
      "execution_count": null,
      "outputs": []
    },
    {
      "cell_type": "code",
      "metadata": {
        "id": "Zoh0q5-XfFZs"
      },
      "source": [
        "df_roll=df.rolling(6).mean().round(1)\n",
        "df_roll_all=df_roll.loc['2018-04-01':'2021-09-01','all']\n",
        "df_roll=df_roll.drop('all',axis=1)"
      ],
      "execution_count": null,
      "outputs": []
    },
    {
      "cell_type": "code",
      "metadata": {
        "id": "Qqky0L08WiJR"
      },
      "source": [
        "df_year_test_2=df_roll.loc['2018-04-01':'2021-09-01'].div(df_roll_all,axis=0)\n",
        "df_year_test_2=df_year_test_2.drop('Cancer',axis=1)"
      ],
      "execution_count": null,
      "outputs": []
    },
    {
      "cell_type": "code",
      "metadata": {
        "id": "bwRXo1FEhnNf"
      },
      "source": [
        "list_=df_year_test_2.loc[:,df_year_test_2.mean()<0.01]\n",
        "columns_list=list_.columns"
      ],
      "execution_count": null,
      "outputs": []
    },
    {
      "cell_type": "code",
      "source": [
        "df_year_test_2.drop(columns_list,axis=1).loc['2018-04-01':'2021-09-01']"
      ],
      "metadata": {
        "colab": {
          "base_uri": "https://localhost:8080/",
          "height": 1000
        },
        "id": "dlKgMEMO-cob",
        "outputId": "3d418550-f623-4e15-e457-71faf5618561"
      },
      "execution_count": null,
      "outputs": [
        {
          "output_type": "execute_result",
          "data": {
            "text/html": [
              "<div>\n",
              "<style scoped>\n",
              "    .dataframe tbody tr th:only-of-type {\n",
              "        vertical-align: middle;\n",
              "    }\n",
              "\n",
              "    .dataframe tbody tr th {\n",
              "        vertical-align: top;\n",
              "    }\n",
              "\n",
              "    .dataframe thead th {\n",
              "        text-align: right;\n",
              "    }\n",
              "</style>\n",
              "<table border=\"1\" class=\"dataframe\">\n",
              "  <thead>\n",
              "    <tr style=\"text-align: right;\">\n",
              "      <th></th>\n",
              "      <th>diabetes</th>\n",
              "      <th>dementia</th>\n",
              "      <th>high_blood_pressure</th>\n",
              "      <th>heart_disease</th>\n",
              "      <th>cerebrovascular</th>\n",
              "      <th>COPD</th>\n",
              "      <th>Incomplete_kidney</th>\n",
              "    </tr>\n",
              "  </thead>\n",
              "  <tbody>\n",
              "    <tr>\n",
              "      <th>2018-04-01</th>\n",
              "      <td>0.038604</td>\n",
              "      <td>0.011427</td>\n",
              "      <td>0.015442</td>\n",
              "      <td>0.015442</td>\n",
              "      <td>0.020074</td>\n",
              "      <td>0.020074</td>\n",
              "      <td>0.008647</td>\n",
              "    </tr>\n",
              "    <tr>\n",
              "      <th>2018-05-01</th>\n",
              "      <td>0.038185</td>\n",
              "      <td>0.011581</td>\n",
              "      <td>0.014710</td>\n",
              "      <td>0.014710</td>\n",
              "      <td>0.018779</td>\n",
              "      <td>0.018779</td>\n",
              "      <td>0.010016</td>\n",
              "    </tr>\n",
              "    <tr>\n",
              "      <th>2018-06-01</th>\n",
              "      <td>0.036505</td>\n",
              "      <td>0.008424</td>\n",
              "      <td>0.013417</td>\n",
              "      <td>0.013417</td>\n",
              "      <td>0.019345</td>\n",
              "      <td>0.019345</td>\n",
              "      <td>0.010296</td>\n",
              "    </tr>\n",
              "    <tr>\n",
              "      <th>2018-07-01</th>\n",
              "      <td>0.032960</td>\n",
              "      <td>0.009600</td>\n",
              "      <td>0.015040</td>\n",
              "      <td>0.015040</td>\n",
              "      <td>0.019840</td>\n",
              "      <td>0.019840</td>\n",
              "      <td>0.011840</td>\n",
              "    </tr>\n",
              "    <tr>\n",
              "      <th>2018-08-01</th>\n",
              "      <td>0.035214</td>\n",
              "      <td>0.010434</td>\n",
              "      <td>0.015650</td>\n",
              "      <td>0.015650</td>\n",
              "      <td>0.018585</td>\n",
              "      <td>0.018585</td>\n",
              "      <td>0.013694</td>\n",
              "    </tr>\n",
              "    <tr>\n",
              "      <th>2018-09-01</th>\n",
              "      <td>0.033333</td>\n",
              "      <td>0.009278</td>\n",
              "      <td>0.016495</td>\n",
              "      <td>0.016495</td>\n",
              "      <td>0.018213</td>\n",
              "      <td>0.018213</td>\n",
              "      <td>0.012715</td>\n",
              "    </tr>\n",
              "    <tr>\n",
              "      <th>2018-10-01</th>\n",
              "      <td>0.033448</td>\n",
              "      <td>0.010345</td>\n",
              "      <td>0.016207</td>\n",
              "      <td>0.016207</td>\n",
              "      <td>0.017241</td>\n",
              "      <td>0.017241</td>\n",
              "      <td>0.011034</td>\n",
              "    </tr>\n",
              "    <tr>\n",
              "      <th>2018-11-01</th>\n",
              "      <td>0.036269</td>\n",
              "      <td>0.010363</td>\n",
              "      <td>0.018307</td>\n",
              "      <td>0.018307</td>\n",
              "      <td>0.018307</td>\n",
              "      <td>0.018307</td>\n",
              "      <td>0.010363</td>\n",
              "    </tr>\n",
              "    <tr>\n",
              "      <th>2018-12-01</th>\n",
              "      <td>0.035247</td>\n",
              "      <td>0.011991</td>\n",
              "      <td>0.021076</td>\n",
              "      <td>0.021076</td>\n",
              "      <td>0.020712</td>\n",
              "      <td>0.020712</td>\n",
              "      <td>0.011628</td>\n",
              "    </tr>\n",
              "    <tr>\n",
              "      <th>2019-01-01</th>\n",
              "      <td>0.037666</td>\n",
              "      <td>0.012925</td>\n",
              "      <td>0.021049</td>\n",
              "      <td>0.021049</td>\n",
              "      <td>0.019572</td>\n",
              "      <td>0.019572</td>\n",
              "      <td>0.010340</td>\n",
              "    </tr>\n",
              "    <tr>\n",
              "      <th>2019-02-01</th>\n",
              "      <td>0.037626</td>\n",
              "      <td>0.009697</td>\n",
              "      <td>0.017455</td>\n",
              "      <td>0.017455</td>\n",
              "      <td>0.020171</td>\n",
              "      <td>0.020171</td>\n",
              "      <td>0.007758</td>\n",
              "    </tr>\n",
              "    <tr>\n",
              "      <th>2019-03-01</th>\n",
              "      <td>0.043307</td>\n",
              "      <td>0.010630</td>\n",
              "      <td>0.017717</td>\n",
              "      <td>0.017717</td>\n",
              "      <td>0.020472</td>\n",
              "      <td>0.020472</td>\n",
              "      <td>0.009055</td>\n",
              "    </tr>\n",
              "    <tr>\n",
              "      <th>2019-04-01</th>\n",
              "      <td>0.041263</td>\n",
              "      <td>0.010526</td>\n",
              "      <td>0.019789</td>\n",
              "      <td>0.019789</td>\n",
              "      <td>0.020211</td>\n",
              "      <td>0.020211</td>\n",
              "      <td>0.009263</td>\n",
              "    </tr>\n",
              "    <tr>\n",
              "      <th>2019-05-01</th>\n",
              "      <td>0.036564</td>\n",
              "      <td>0.010132</td>\n",
              "      <td>0.015419</td>\n",
              "      <td>0.015419</td>\n",
              "      <td>0.020705</td>\n",
              "      <td>0.020705</td>\n",
              "      <td>0.007930</td>\n",
              "    </tr>\n",
              "    <tr>\n",
              "      <th>2019-06-01</th>\n",
              "      <td>0.037281</td>\n",
              "      <td>0.008772</td>\n",
              "      <td>0.014474</td>\n",
              "      <td>0.014474</td>\n",
              "      <td>0.017544</td>\n",
              "      <td>0.017544</td>\n",
              "      <td>0.006579</td>\n",
              "    </tr>\n",
              "    <tr>\n",
              "      <th>2019-07-01</th>\n",
              "      <td>0.035391</td>\n",
              "      <td>0.010790</td>\n",
              "      <td>0.015106</td>\n",
              "      <td>0.015106</td>\n",
              "      <td>0.019422</td>\n",
              "      <td>0.019422</td>\n",
              "      <td>0.007769</td>\n",
              "    </tr>\n",
              "    <tr>\n",
              "      <th>2019-08-01</th>\n",
              "      <td>0.031438</td>\n",
              "      <td>0.010767</td>\n",
              "      <td>0.017227</td>\n",
              "      <td>0.017227</td>\n",
              "      <td>0.020672</td>\n",
              "      <td>0.020672</td>\n",
              "      <td>0.009475</td>\n",
              "    </tr>\n",
              "    <tr>\n",
              "      <th>2019-09-01</th>\n",
              "      <td>0.031345</td>\n",
              "      <td>0.010013</td>\n",
              "      <td>0.015237</td>\n",
              "      <td>0.015237</td>\n",
              "      <td>0.018720</td>\n",
              "      <td>0.018720</td>\n",
              "      <td>0.010013</td>\n",
              "    </tr>\n",
              "    <tr>\n",
              "      <th>2019-10-01</th>\n",
              "      <td>0.031915</td>\n",
              "      <td>0.010638</td>\n",
              "      <td>0.013617</td>\n",
              "      <td>0.013617</td>\n",
              "      <td>0.017021</td>\n",
              "      <td>0.017021</td>\n",
              "      <td>0.012766</td>\n",
              "    </tr>\n",
              "    <tr>\n",
              "      <th>2019-11-01</th>\n",
              "      <td>0.036512</td>\n",
              "      <td>0.009880</td>\n",
              "      <td>0.012887</td>\n",
              "      <td>0.012887</td>\n",
              "      <td>0.018041</td>\n",
              "      <td>0.018041</td>\n",
              "      <td>0.014175</td>\n",
              "    </tr>\n",
              "    <tr>\n",
              "      <th>2019-12-01</th>\n",
              "      <td>0.036331</td>\n",
              "      <td>0.010191</td>\n",
              "      <td>0.011963</td>\n",
              "      <td>0.011963</td>\n",
              "      <td>0.016837</td>\n",
              "      <td>0.016837</td>\n",
              "      <td>0.014178</td>\n",
              "    </tr>\n",
              "    <tr>\n",
              "      <th>2020-01-01</th>\n",
              "      <td>0.037591</td>\n",
              "      <td>0.006793</td>\n",
              "      <td>0.014493</td>\n",
              "      <td>0.014493</td>\n",
              "      <td>0.016757</td>\n",
              "      <td>0.016757</td>\n",
              "      <td>0.013587</td>\n",
              "    </tr>\n",
              "    <tr>\n",
              "      <th>2020-02-01</th>\n",
              "      <td>0.045616</td>\n",
              "      <td>0.007972</td>\n",
              "      <td>0.014172</td>\n",
              "      <td>0.014172</td>\n",
              "      <td>0.014172</td>\n",
              "      <td>0.014172</td>\n",
              "      <td>0.014615</td>\n",
              "    </tr>\n",
              "    <tr>\n",
              "      <th>2020-03-01</th>\n",
              "      <td>0.039608</td>\n",
              "      <td>0.010647</td>\n",
              "      <td>0.014055</td>\n",
              "      <td>0.014055</td>\n",
              "      <td>0.016184</td>\n",
              "      <td>0.016184</td>\n",
              "      <td>0.014906</td>\n",
              "    </tr>\n",
              "    <tr>\n",
              "      <th>2020-04-01</th>\n",
              "      <td>0.039519</td>\n",
              "      <td>0.010739</td>\n",
              "      <td>0.014175</td>\n",
              "      <td>0.014175</td>\n",
              "      <td>0.018041</td>\n",
              "      <td>0.018041</td>\n",
              "      <td>0.014175</td>\n",
              "    </tr>\n",
              "    <tr>\n",
              "      <th>2020-05-01</th>\n",
              "      <td>0.037291</td>\n",
              "      <td>0.011573</td>\n",
              "      <td>0.015859</td>\n",
              "      <td>0.015859</td>\n",
              "      <td>0.018003</td>\n",
              "      <td>0.018003</td>\n",
              "      <td>0.013716</td>\n",
              "    </tr>\n",
              "    <tr>\n",
              "      <th>2020-06-01</th>\n",
              "      <td>0.039386</td>\n",
              "      <td>0.011609</td>\n",
              "      <td>0.014511</td>\n",
              "      <td>0.014511</td>\n",
              "      <td>0.019486</td>\n",
              "      <td>0.019486</td>\n",
              "      <td>0.013267</td>\n",
              "    </tr>\n",
              "    <tr>\n",
              "      <th>2020-07-01</th>\n",
              "      <td>0.037531</td>\n",
              "      <td>0.013761</td>\n",
              "      <td>0.013761</td>\n",
              "      <td>0.013761</td>\n",
              "      <td>0.017932</td>\n",
              "      <td>0.017932</td>\n",
              "      <td>0.011676</td>\n",
              "    </tr>\n",
              "    <tr>\n",
              "      <th>2020-08-01</th>\n",
              "      <td>0.030279</td>\n",
              "      <td>0.012919</td>\n",
              "      <td>0.013323</td>\n",
              "      <td>0.013323</td>\n",
              "      <td>0.018975</td>\n",
              "      <td>0.018975</td>\n",
              "      <td>0.010093</td>\n",
              "    </tr>\n",
              "    <tr>\n",
              "      <th>2020-09-01</th>\n",
              "      <td>0.030133</td>\n",
              "      <td>0.012053</td>\n",
              "      <td>0.013775</td>\n",
              "      <td>0.013775</td>\n",
              "      <td>0.022815</td>\n",
              "      <td>0.022815</td>\n",
              "      <td>0.009471</td>\n",
              "    </tr>\n",
              "    <tr>\n",
              "      <th>2020-10-01</th>\n",
              "      <td>0.030303</td>\n",
              "      <td>0.011688</td>\n",
              "      <td>0.012121</td>\n",
              "      <td>0.012121</td>\n",
              "      <td>0.020779</td>\n",
              "      <td>0.020779</td>\n",
              "      <td>0.007792</td>\n",
              "    </tr>\n",
              "    <tr>\n",
              "      <th>2020-11-01</th>\n",
              "      <td>0.033784</td>\n",
              "      <td>0.012669</td>\n",
              "      <td>0.012669</td>\n",
              "      <td>0.012669</td>\n",
              "      <td>0.022382</td>\n",
              "      <td>0.022382</td>\n",
              "      <td>0.009291</td>\n",
              "    </tr>\n",
              "    <tr>\n",
              "      <th>2020-12-01</th>\n",
              "      <td>0.030380</td>\n",
              "      <td>0.012658</td>\n",
              "      <td>0.014768</td>\n",
              "      <td>0.014768</td>\n",
              "      <td>0.021941</td>\n",
              "      <td>0.021941</td>\n",
              "      <td>0.007595</td>\n",
              "    </tr>\n",
              "    <tr>\n",
              "      <th>2021-01-01</th>\n",
              "      <td>0.031048</td>\n",
              "      <td>0.011290</td>\n",
              "      <td>0.013306</td>\n",
              "      <td>0.013306</td>\n",
              "      <td>0.021371</td>\n",
              "      <td>0.021371</td>\n",
              "      <td>0.008871</td>\n",
              "    </tr>\n",
              "    <tr>\n",
              "      <th>2021-02-01</th>\n",
              "      <td>0.039095</td>\n",
              "      <td>0.013169</td>\n",
              "      <td>0.013580</td>\n",
              "      <td>0.013580</td>\n",
              "      <td>0.022634</td>\n",
              "      <td>0.022634</td>\n",
              "      <td>0.012346</td>\n",
              "    </tr>\n",
              "    <tr>\n",
              "      <th>2021-03-01</th>\n",
              "      <td>0.038714</td>\n",
              "      <td>0.012098</td>\n",
              "      <td>0.011407</td>\n",
              "      <td>0.011407</td>\n",
              "      <td>0.019011</td>\n",
              "      <td>0.019011</td>\n",
              "      <td>0.011061</td>\n",
              "    </tr>\n",
              "    <tr>\n",
              "      <th>2021-04-01</th>\n",
              "      <td>0.038655</td>\n",
              "      <td>0.011942</td>\n",
              "      <td>0.010999</td>\n",
              "      <td>0.010999</td>\n",
              "      <td>0.018856</td>\n",
              "      <td>0.018856</td>\n",
              "      <td>0.011942</td>\n",
              "    </tr>\n",
              "    <tr>\n",
              "      <th>2021-05-01</th>\n",
              "      <td>0.038306</td>\n",
              "      <td>0.011521</td>\n",
              "      <td>0.012385</td>\n",
              "      <td>0.012385</td>\n",
              "      <td>0.016705</td>\n",
              "      <td>0.016705</td>\n",
              "      <td>0.010081</td>\n",
              "    </tr>\n",
              "    <tr>\n",
              "      <th>2021-06-01</th>\n",
              "      <td>0.037280</td>\n",
              "      <td>0.012091</td>\n",
              "      <td>0.014610</td>\n",
              "      <td>0.014610</td>\n",
              "      <td>0.017128</td>\n",
              "      <td>0.017128</td>\n",
              "      <td>0.011839</td>\n",
              "    </tr>\n",
              "    <tr>\n",
              "      <th>2021-07-01</th>\n",
              "      <td>0.035412</td>\n",
              "      <td>0.011880</td>\n",
              "      <td>0.014850</td>\n",
              "      <td>0.014850</td>\n",
              "      <td>0.017592</td>\n",
              "      <td>0.017592</td>\n",
              "      <td>0.010738</td>\n",
              "    </tr>\n",
              "    <tr>\n",
              "      <th>2021-08-01</th>\n",
              "      <td>0.034923</td>\n",
              "      <td>0.011083</td>\n",
              "      <td>0.016102</td>\n",
              "      <td>0.016102</td>\n",
              "      <td>0.017148</td>\n",
              "      <td>0.017148</td>\n",
              "      <td>0.008992</td>\n",
              "    </tr>\n",
              "    <tr>\n",
              "      <th>2021-09-01</th>\n",
              "      <td>0.036837</td>\n",
              "      <td>0.011051</td>\n",
              "      <td>0.017682</td>\n",
              "      <td>0.017682</td>\n",
              "      <td>0.015963</td>\n",
              "      <td>0.015963</td>\n",
              "      <td>0.009086</td>\n",
              "    </tr>\n",
              "  </tbody>\n",
              "</table>\n",
              "</div>"
            ],
            "text/plain": [
              "            diabetes  dementia  ...      COPD  Incomplete_kidney\n",
              "2018-04-01  0.038604  0.011427  ...  0.020074           0.008647\n",
              "2018-05-01  0.038185  0.011581  ...  0.018779           0.010016\n",
              "2018-06-01  0.036505  0.008424  ...  0.019345           0.010296\n",
              "2018-07-01  0.032960  0.009600  ...  0.019840           0.011840\n",
              "2018-08-01  0.035214  0.010434  ...  0.018585           0.013694\n",
              "2018-09-01  0.033333  0.009278  ...  0.018213           0.012715\n",
              "2018-10-01  0.033448  0.010345  ...  0.017241           0.011034\n",
              "2018-11-01  0.036269  0.010363  ...  0.018307           0.010363\n",
              "2018-12-01  0.035247  0.011991  ...  0.020712           0.011628\n",
              "2019-01-01  0.037666  0.012925  ...  0.019572           0.010340\n",
              "2019-02-01  0.037626  0.009697  ...  0.020171           0.007758\n",
              "2019-03-01  0.043307  0.010630  ...  0.020472           0.009055\n",
              "2019-04-01  0.041263  0.010526  ...  0.020211           0.009263\n",
              "2019-05-01  0.036564  0.010132  ...  0.020705           0.007930\n",
              "2019-06-01  0.037281  0.008772  ...  0.017544           0.006579\n",
              "2019-07-01  0.035391  0.010790  ...  0.019422           0.007769\n",
              "2019-08-01  0.031438  0.010767  ...  0.020672           0.009475\n",
              "2019-09-01  0.031345  0.010013  ...  0.018720           0.010013\n",
              "2019-10-01  0.031915  0.010638  ...  0.017021           0.012766\n",
              "2019-11-01  0.036512  0.009880  ...  0.018041           0.014175\n",
              "2019-12-01  0.036331  0.010191  ...  0.016837           0.014178\n",
              "2020-01-01  0.037591  0.006793  ...  0.016757           0.013587\n",
              "2020-02-01  0.045616  0.007972  ...  0.014172           0.014615\n",
              "2020-03-01  0.039608  0.010647  ...  0.016184           0.014906\n",
              "2020-04-01  0.039519  0.010739  ...  0.018041           0.014175\n",
              "2020-05-01  0.037291  0.011573  ...  0.018003           0.013716\n",
              "2020-06-01  0.039386  0.011609  ...  0.019486           0.013267\n",
              "2020-07-01  0.037531  0.013761  ...  0.017932           0.011676\n",
              "2020-08-01  0.030279  0.012919  ...  0.018975           0.010093\n",
              "2020-09-01  0.030133  0.012053  ...  0.022815           0.009471\n",
              "2020-10-01  0.030303  0.011688  ...  0.020779           0.007792\n",
              "2020-11-01  0.033784  0.012669  ...  0.022382           0.009291\n",
              "2020-12-01  0.030380  0.012658  ...  0.021941           0.007595\n",
              "2021-01-01  0.031048  0.011290  ...  0.021371           0.008871\n",
              "2021-02-01  0.039095  0.013169  ...  0.022634           0.012346\n",
              "2021-03-01  0.038714  0.012098  ...  0.019011           0.011061\n",
              "2021-04-01  0.038655  0.011942  ...  0.018856           0.011942\n",
              "2021-05-01  0.038306  0.011521  ...  0.016705           0.010081\n",
              "2021-06-01  0.037280  0.012091  ...  0.017128           0.011839\n",
              "2021-07-01  0.035412  0.011880  ...  0.017592           0.010738\n",
              "2021-08-01  0.034923  0.011083  ...  0.017148           0.008992\n",
              "2021-09-01  0.036837  0.011051  ...  0.015963           0.009086\n",
              "\n",
              "[42 rows x 7 columns]"
            ]
          },
          "metadata": {},
          "execution_count": 22
        }
      ]
    },
    {
      "cell_type": "code",
      "metadata": {
        "id": "yRNaOaUHdyfD"
      },
      "source": [
        "ts_dataset = TimeSeriesScalerMinMax().fit_transform(df_year_test_2.drop(['depression','alzheimer','viral_hepatitis','tuberculosis'],axis=1).values.transpose())"
      ],
      "execution_count": null,
      "outputs": []
    },
    {
      "cell_type": "code",
      "metadata": {
        "id": "QL5XoaqjZtzb"
      },
      "source": [
        "df_regulation=df_sample[(df_sample['year']>=2019)|((df_sample['year']==2018)&(df_sample['month']>=4))]\n",
        "df_regulation_before=df_sample[~(df_sample['year']>=2019)|((df_sample['year']==2018)&(df_sample['month']>=4))]"
      ],
      "execution_count": null,
      "outputs": []
    },
    {
      "cell_type": "code",
      "metadata": {
        "id": "gQIQ2zkzd42m"
      },
      "source": [
        "test_data_frame=df_year_test_2[['tuberculosis','viral_hepatitis','dyslipidemia','alzheimer','COPD','asthma','dental_caries','liver_disease','periodontal']]\n",
        "test_data_frame.plot().legend(bbox_to_anchor=(1, 1),loc='upper left')\n",
        "plt.savefig('disease_other.png',bbox_inches=\"tight\")"
      ],
      "execution_count": null,
      "outputs": []
    },
    {
      "cell_type": "code",
      "metadata": {
        "id": "DIqBSrXeb_fv"
      },
      "source": [
        "df_regulation['sample_size'].describe()"
      ],
      "execution_count": null,
      "outputs": []
    },
    {
      "cell_type": "code",
      "metadata": {
        "id": "_kVUOevweodo"
      },
      "source": [
        "import matplotlib.pyplot as plt\n",
        "x1=df_sample[df_sample['phase']=='第Ⅰ相/Phase I']\n",
        "plt.figure(figsize=(12,8))\n",
        "plt.hist(x1['sample_size'].sort_values(),bins=100,range=(0,100))\n",
        "plt.xlabel('sample size',size=12)\n",
        "plt.ylabel('number of cases',size=12)\n",
        "plt.savefig('/content/drive/My Drive/sample_size_hist_phase1.png')\n",
        "plt.clf()\n",
        "plt.close()"
      ],
      "execution_count": null,
      "outputs": []
    },
    {
      "cell_type": "code",
      "metadata": {
        "id": "kd7Gt2T2Re7b"
      },
      "source": [
        "import matplotlib.pyplot as plt\n",
        "x2=df_sample[df_sample['phase']=='第Ⅱ相/Phase II']\n",
        "plt.figure(figsize=(12,8))\n",
        "plt.hist(x2['sample_size'].sort_values(),bins=100,range=(0,100))\n",
        "plt.xlabel('sample size',size=12)\n",
        "plt.ylabel('number of cases',size=12)\n",
        "plt.savefig('/content/drive/My Drive/sample_size_hist_phase2.png')\n",
        "plt.clf()\n",
        "plt.close()"
      ],
      "execution_count": null,
      "outputs": []
    },
    {
      "cell_type": "code",
      "metadata": {
        "id": "HPOqOLbeR0Pw"
      },
      "source": [
        "import matplotlib.pyplot as plt\n",
        "x3=df_sample[df_sample['phase']=='第Ⅲ相/Phase III']\n",
        "plt.figure(figsize=(12,8))\n",
        "plt.hist(x1['sample_size'].sort_values(),bins=100,range=(0,100))\n",
        "plt.xlabel('sample size',size=12)\n",
        "plt.ylabel('number of cases',size=12)\n",
        "plt.savefig('/content/drive/My Drive/sample_size_hist_phase3.png')\n",
        "plt.clf()\n",
        "plt.close()"
      ],
      "execution_count": null,
      "outputs": []
    },
    {
      "cell_type": "code",
      "metadata": {
        "id": "7l-suJ5rSjvz"
      },
      "source": [
        "import matplotlib.pyplot as plt\n",
        "x_non=df_sample[df_sample['phase']=='該当せず/Not applicable']\n",
        "plt.figure(figsize=(12,8))\n",
        "plt.hist(x1['sample_size'].sort_values(),bins=100,range=(0,100))\n",
        "plt.xlabel('sample size',size=12)\n",
        "plt.ylabel('number of cases',size=12)\n",
        "plt.savefig('/content/drive/My Drive/sample_size_hist_phase_other.png')\n",
        "plt.clf()\n",
        "plt.close()"
      ],
      "execution_count": null,
      "outputs": []
    },
    {
      "cell_type": "code",
      "metadata": {
        "id": "I-mw4CiHgYcN"
      },
      "source": [
        "import matplotlib.pyplot as plt\n",
        "Reg_3=df_regulation[df_regulation['phase']=='第Ⅲ相/Phase III']\n",
        "plt.figure(figsize=(12,8))\n",
        "plt.hist(Reg_3['sample_size'].sort_values(),bins=100,range=(0,100))\n",
        "plt.xlabel('sample size',size=12)\n",
        "plt.ylabel('number of cases',size=12)\n",
        "plt.savefig('/content/drive/My Drive/sample_size_hist_phase3_reglation.png')\n",
        "plt.clf()\n",
        "plt.close()"
      ],
      "execution_count": null,
      "outputs": []
    },
    {
      "cell_type": "code",
      "metadata": {
        "id": "zigLWDWpjPef"
      },
      "source": [
        "plt.hist(x1['sample_size'].sort_values(),bins=100,range=(0,100))"
      ],
      "execution_count": null,
      "outputs": []
    },
    {
      "cell_type": "code",
      "metadata": {
        "id": "BnWZ2smZ109K"
      },
      "source": [
        "df_Cancer=df_sample[((df_sample['癌']==1)|(df_sample['がん']==1)|(df_sample['腫瘍']==1))&(df_sample['study_type']=='介入')&(df_sample['phase']=='第Ⅲ相/Phase III')]\n",
        "df_regulation_test=df_regulation[(df_regulation['phase']=='第Ⅲ相/Phase III')&(df_regulation['study_type']=='介入')]"
      ],
      "execution_count": null,
      "outputs": []
    },
    {
      "cell_type": "code",
      "metadata": {
        "id": "mNb11qEiwas-"
      },
      "source": [
        "df_regulation_before_test=df_regulation_before[(df_regulation_before['phase']=='第Ⅲ相/Phase III')&(df_regulation_before['study_type']=='介入')]"
      ],
      "execution_count": null,
      "outputs": []
    },
    {
      "cell_type": "code",
      "metadata": {
        "id": "mTHZ1HzSwhFH"
      },
      "source": [
        "plt.hist(df_regulation_before_test['sample_size'].sort_values(),bins=100,range=(0,100))"
      ],
      "execution_count": null,
      "outputs": []
    },
    {
      "cell_type": "code",
      "metadata": {
        "id": "5V7VtAeplVeY"
      },
      "source": [
        "df_test=df_regulation_before_test.groupby('sample_size').count()"
      ],
      "execution_count": null,
      "outputs": []
    },
    {
      "cell_type": "code",
      "metadata": {
        "id": "0nxZijOS26z2"
      },
      "source": [
        "df_test"
      ],
      "execution_count": null,
      "outputs": []
    },
    {
      "cell_type": "code",
      "metadata": {
        "id": "9Zway93wmvts"
      },
      "source": [
        "n=df_test['ID']"
      ],
      "execution_count": null,
      "outputs": []
    },
    {
      "cell_type": "code",
      "metadata": {
        "id": "YM5ehXNtpYAK"
      },
      "source": [
        "num=0\n",
        "a=[]\n",
        "for i in range(1,len(n)+1):\n",
        "  num=df_test['ID'].head(i).sum()\n",
        "  a.append(num)"
      ],
      "execution_count": null,
      "outputs": []
    },
    {
      "cell_type": "code",
      "metadata": {
        "id": "wwoaLEfMsJs1"
      },
      "source": [
        "df_test['ruiseki']=a/num"
      ],
      "execution_count": null,
      "outputs": []
    },
    {
      "cell_type": "code",
      "metadata": {
        "id": "htKRi6MCuVNo"
      },
      "source": [
        "df_test['ruiseki'].plot(xlim=[0, 500])\n",
        "plt.xlabel('sample size',size=12)\n",
        "plt.ylabel('number of cases',size=12)\n",
        "plt.savefig('/content/drive/My Drive/sample_size_hist_phase3_Accumulation_before_reglation.png')\n",
        "plt.clf()\n",
        "plt.close()"
      ],
      "execution_count": null,
      "outputs": []
    },
    {
      "cell_type": "code",
      "metadata": {
        "id": "Rk8p-DzY2t1x"
      },
      "source": [
        "df_test['ruiseki']"
      ],
      "execution_count": null,
      "outputs": []
    }
  ]
}